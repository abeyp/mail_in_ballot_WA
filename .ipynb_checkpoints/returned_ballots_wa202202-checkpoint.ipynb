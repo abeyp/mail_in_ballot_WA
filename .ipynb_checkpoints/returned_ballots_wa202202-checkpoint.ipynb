{
 "cells": [
  {
   "cell_type": "code",
   "execution_count": 3,
   "id": "3e720c68-1878-482c-9683-77b30794b69b",
   "metadata": {},
   "outputs": [],
   "source": [
    "#Install packages\n",
    "import pandas as pd\n",
    "import matplotlib.pyplot as plt"
   ]
  },
  {
   "cell_type": "code",
   "execution_count": 4,
   "id": "c755a235-87ab-4485-86e9-70eecef9ad92",
   "metadata": {},
   "outputs": [],
   "source": [
    "king_df = pd.read_csv('wa_election_data/BallotStatusReport_20220218_KI.csv',encoding='windows-1252')"
   ]
  },
  {
   "cell_type": "code",
   "execution_count": 5,
   "id": "0328ea25-d631-4acd-979f-70c345ef1d73",
   "metadata": {},
   "outputs": [
    {
     "data": {
      "text/html": [
       "<div>\n",
       "<style scoped>\n",
       "    .dataframe tbody tr th:only-of-type {\n",
       "        vertical-align: middle;\n",
       "    }\n",
       "\n",
       "    .dataframe tbody tr th {\n",
       "        vertical-align: top;\n",
       "    }\n",
       "\n",
       "    .dataframe thead th {\n",
       "        text-align: right;\n",
       "    }\n",
       "</style>\n",
       "<table border=\"1\" class=\"dataframe\">\n",
       "  <thead>\n",
       "    <tr style=\"text-align: right;\">\n",
       "      <th></th>\n",
       "      <th>Ballot ID</th>\n",
       "      <th>Voter ID</th>\n",
       "      <th>County</th>\n",
       "      <th>First Name</th>\n",
       "      <th>Last Name</th>\n",
       "      <th>Gender</th>\n",
       "      <th>Election</th>\n",
       "      <th>Ballot Status</th>\n",
       "      <th>Challenge Reason</th>\n",
       "      <th>Sent Date</th>\n",
       "      <th>...</th>\n",
       "      <th>City</th>\n",
       "      <th>State</th>\n",
       "      <th>Zip</th>\n",
       "      <th>Country</th>\n",
       "      <th>Split</th>\n",
       "      <th>Precinct</th>\n",
       "      <th>Return Method</th>\n",
       "      <th>Return Location</th>\n",
       "      <th>Batch Sent</th>\n",
       "      <th>Batch Returned</th>\n",
       "    </tr>\n",
       "  </thead>\n",
       "  <tbody>\n",
       "    <tr>\n",
       "      <th>0</th>\n",
       "      <td>106943949</td>\n",
       "      <td>3618667</td>\n",
       "      <td>King</td>\n",
       "      <td>VICKI</td>\n",
       "      <td>AABERG</td>\n",
       "      <td>F</td>\n",
       "      <td>Special Feb  8 2022</td>\n",
       "      <td>Accepted</td>\n",
       "      <td>NaN</td>\n",
       "      <td>1/19/2022 0:00</td>\n",
       "      <td>...</td>\n",
       "      <td>KENT</td>\n",
       "      <td>WA</td>\n",
       "      <td>98030</td>\n",
       "      <td>USA</td>\n",
       "      <td>3911.652</td>\n",
       "      <td>KEN 47-3911</td>\n",
       "      <td>Mail</td>\n",
       "      <td>NaN</td>\n",
       "      <td>24311.0</td>\n",
       "      <td>10955.0</td>\n",
       "    </tr>\n",
       "    <tr>\n",
       "      <th>1</th>\n",
       "      <td>106696683</td>\n",
       "      <td>11717681</td>\n",
       "      <td>King</td>\n",
       "      <td>ISABEL</td>\n",
       "      <td>AABERG</td>\n",
       "      <td>F</td>\n",
       "      <td>Special Feb  8 2022</td>\n",
       "      <td>Accepted</td>\n",
       "      <td>NaN</td>\n",
       "      <td>1/19/2022 0:00</td>\n",
       "      <td>...</td>\n",
       "      <td>KENT</td>\n",
       "      <td>WA</td>\n",
       "      <td>98030</td>\n",
       "      <td>USA</td>\n",
       "      <td>3911.652</td>\n",
       "      <td>KEN 47-3911</td>\n",
       "      <td>Mail</td>\n",
       "      <td>NaN</td>\n",
       "      <td>24311.0</td>\n",
       "      <td>11259.0</td>\n",
       "    </tr>\n",
       "    <tr>\n",
       "      <th>2</th>\n",
       "      <td>106445951</td>\n",
       "      <td>1387270</td>\n",
       "      <td>King</td>\n",
       "      <td>GLEN</td>\n",
       "      <td>AABERG</td>\n",
       "      <td>M</td>\n",
       "      <td>Special Feb  8 2022</td>\n",
       "      <td>Accepted</td>\n",
       "      <td>NaN</td>\n",
       "      <td>1/19/2022 0:00</td>\n",
       "      <td>...</td>\n",
       "      <td>KENT</td>\n",
       "      <td>WA</td>\n",
       "      <td>98030</td>\n",
       "      <td>USA</td>\n",
       "      <td>3911.652</td>\n",
       "      <td>KEN 47-3911</td>\n",
       "      <td>Mail</td>\n",
       "      <td>NaN</td>\n",
       "      <td>24311.0</td>\n",
       "      <td>10955.0</td>\n",
       "    </tr>\n",
       "    <tr>\n",
       "      <th>3</th>\n",
       "      <td>106955695</td>\n",
       "      <td>3020297</td>\n",
       "      <td>King</td>\n",
       "      <td>DAVID</td>\n",
       "      <td>AABY</td>\n",
       "      <td>M</td>\n",
       "      <td>Special Feb  8 2022</td>\n",
       "      <td>Accepted</td>\n",
       "      <td>NaN</td>\n",
       "      <td>1/19/2022 0:00</td>\n",
       "      <td>...</td>\n",
       "      <td>ENUMCLAW</td>\n",
       "      <td>WA</td>\n",
       "      <td>98022</td>\n",
       "      <td>USA</td>\n",
       "      <td>3247.757</td>\n",
       "      <td>ENM 31-3247</td>\n",
       "      <td>Drop Box</td>\n",
       "      <td>Enumclaw Library</td>\n",
       "      <td>24311.0</td>\n",
       "      <td>12080.0</td>\n",
       "    </tr>\n",
       "    <tr>\n",
       "      <th>4</th>\n",
       "      <td>106553483</td>\n",
       "      <td>3575702</td>\n",
       "      <td>King</td>\n",
       "      <td>JACQUELYN</td>\n",
       "      <td>AABY</td>\n",
       "      <td>F</td>\n",
       "      <td>Special Feb  8 2022</td>\n",
       "      <td>Accepted</td>\n",
       "      <td>NaN</td>\n",
       "      <td>1/19/2022 0:00</td>\n",
       "      <td>...</td>\n",
       "      <td>RENTON</td>\n",
       "      <td>WA</td>\n",
       "      <td>98058</td>\n",
       "      <td>USA</td>\n",
       "      <td>2459.959</td>\n",
       "      <td>FAIRHAVEN</td>\n",
       "      <td>Mail</td>\n",
       "      <td>NaN</td>\n",
       "      <td>24311.0</td>\n",
       "      <td>10233.0</td>\n",
       "    </tr>\n",
       "  </tbody>\n",
       "</table>\n",
       "<p>5 rows × 22 columns</p>\n",
       "</div>"
      ],
      "text/plain": [
       "   Ballot ID  Voter ID County First Name Last Name Gender  \\\n",
       "0  106943949   3618667   King      VICKI    AABERG      F   \n",
       "1  106696683  11717681   King     ISABEL    AABERG      F   \n",
       "2  106445951   1387270   King       GLEN    AABERG      M   \n",
       "3  106955695   3020297   King      DAVID      AABY      M   \n",
       "4  106553483   3575702   King  JACQUELYN      AABY      F   \n",
       "\n",
       "              Election Ballot Status Challenge Reason       Sent Date  ...  \\\n",
       "0  Special Feb  8 2022      Accepted              NaN  1/19/2022 0:00  ...   \n",
       "1  Special Feb  8 2022      Accepted              NaN  1/19/2022 0:00  ...   \n",
       "2  Special Feb  8 2022      Accepted              NaN  1/19/2022 0:00  ...   \n",
       "3  Special Feb  8 2022      Accepted              NaN  1/19/2022 0:00  ...   \n",
       "4  Special Feb  8 2022      Accepted              NaN  1/19/2022 0:00  ...   \n",
       "\n",
       "       City State    Zip Country     Split     Precinct  Return Method  \\\n",
       "0      KENT    WA  98030     USA  3911.652  KEN 47-3911           Mail   \n",
       "1      KENT    WA  98030     USA  3911.652  KEN 47-3911           Mail   \n",
       "2      KENT    WA  98030     USA  3911.652  KEN 47-3911           Mail   \n",
       "3  ENUMCLAW    WA  98022     USA  3247.757  ENM 31-3247       Drop Box   \n",
       "4    RENTON    WA  98058     USA  2459.959    FAIRHAVEN           Mail   \n",
       "\n",
       "    Return Location Batch Sent Batch Returned  \n",
       "0               NaN    24311.0        10955.0  \n",
       "1               NaN    24311.0        11259.0  \n",
       "2               NaN    24311.0        10955.0  \n",
       "3  Enumclaw Library    24311.0        12080.0  \n",
       "4               NaN    24311.0        10233.0  \n",
       "\n",
       "[5 rows x 22 columns]"
      ]
     },
     "execution_count": 5,
     "metadata": {},
     "output_type": "execute_result"
    }
   ],
   "source": [
    "king_df.head()"
   ]
  },
  {
   "cell_type": "markdown",
   "id": "ae3d439f-49c0-4e73-910a-b82bd1eef1cb",
   "metadata": {},
   "source": [
    "Checking against https://www.sos.wa.gov/2022-february-special-election\n",
    "IMPORTANT: This is only King Country of Ballot Return Data provided from Secretary of State Elections Office.\n",
    "\n",
    "\n",
    "State\n",
    "\n",
    "Voters in Election: 3,080,390\n",
    "Ballots Returned: 980,819\n",
    "King\n",
    "\n",
    "Voters in Election: 1,157,819\n",
    "Ballots Returned: 362,064\n",
    "I have 362,064 total rows of assumed 1 voter per row"
   ]
  },
  {
   "cell_type": "markdown",
   "id": "6c04b754-cba6-4cfc-8a04-3ef15bd0b8f6",
   "metadata": {
    "tags": []
   },
   "source": [
    "# Exploratory Data Analysis"
   ]
  },
  {
   "cell_type": "code",
   "execution_count": 8,
   "id": "3176196a-a0ac-4800-bfda-2ef4d253fab0",
   "metadata": {},
   "outputs": [
    {
     "data": {
      "text/html": [
       "<div>\n",
       "<style scoped>\n",
       "    .dataframe tbody tr th:only-of-type {\n",
       "        vertical-align: middle;\n",
       "    }\n",
       "\n",
       "    .dataframe tbody tr th {\n",
       "        vertical-align: top;\n",
       "    }\n",
       "\n",
       "    .dataframe thead th {\n",
       "        text-align: right;\n",
       "    }\n",
       "</style>\n",
       "<table border=\"1\" class=\"dataframe\">\n",
       "  <thead>\n",
       "    <tr style=\"text-align: right;\">\n",
       "      <th></th>\n",
       "      <th>County</th>\n",
       "      <th>First Name</th>\n",
       "      <th>Last Name</th>\n",
       "      <th>Gender</th>\n",
       "      <th>Election</th>\n",
       "      <th>Ballot Status</th>\n",
       "      <th>Challenge Reason</th>\n",
       "      <th>Sent Date</th>\n",
       "      <th>Received Date</th>\n",
       "      <th>Address</th>\n",
       "      <th>City</th>\n",
       "      <th>State</th>\n",
       "      <th>Zip</th>\n",
       "      <th>Country</th>\n",
       "      <th>Precinct</th>\n",
       "      <th>Return Method</th>\n",
       "      <th>Return Location</th>\n",
       "    </tr>\n",
       "  </thead>\n",
       "  <tbody>\n",
       "    <tr>\n",
       "      <th>count</th>\n",
       "      <td>362064</td>\n",
       "      <td>362047</td>\n",
       "      <td>362056</td>\n",
       "      <td>361819</td>\n",
       "      <td>362064</td>\n",
       "      <td>362064</td>\n",
       "      <td>5246</td>\n",
       "      <td>362064</td>\n",
       "      <td>362064</td>\n",
       "      <td>362064</td>\n",
       "      <td>361743</td>\n",
       "      <td>361359</td>\n",
       "      <td>361359</td>\n",
       "      <td>362064</td>\n",
       "      <td>362059</td>\n",
       "      <td>362064</td>\n",
       "      <td>145872</td>\n",
       "    </tr>\n",
       "    <tr>\n",
       "      <th>unique</th>\n",
       "      <td>1</td>\n",
       "      <td>28892</td>\n",
       "      <td>83885</td>\n",
       "      <td>4</td>\n",
       "      <td>1</td>\n",
       "      <td>2</td>\n",
       "      <td>8</td>\n",
       "      <td>35</td>\n",
       "      <td>38</td>\n",
       "      <td>226487</td>\n",
       "      <td>955</td>\n",
       "      <td>53</td>\n",
       "      <td>1012</td>\n",
       "      <td>66</td>\n",
       "      <td>2306</td>\n",
       "      <td>6</td>\n",
       "      <td>74</td>\n",
       "    </tr>\n",
       "    <tr>\n",
       "      <th>top</th>\n",
       "      <td>King</td>\n",
       "      <td>MICHAEL</td>\n",
       "      <td>SMITH</td>\n",
       "      <td>F</td>\n",
       "      <td>Special Feb  8 2022</td>\n",
       "      <td>Accepted</td>\n",
       "      <td>Too Late</td>\n",
       "      <td>1/19/2022 0:00</td>\n",
       "      <td>2/8/2022 0:00</td>\n",
       "      <td>77 S WASHINGTON ST</td>\n",
       "      <td>SEATTLE</td>\n",
       "      <td>WA</td>\n",
       "      <td>98115</td>\n",
       "      <td>USA</td>\n",
       "      <td>WELCOME LAKE</td>\n",
       "      <td>Mail</td>\n",
       "      <td>King County Elections</td>\n",
       "    </tr>\n",
       "    <tr>\n",
       "      <th>freq</th>\n",
       "      <td>362064</td>\n",
       "      <td>6055</td>\n",
       "      <td>2411</td>\n",
       "      <td>184819</td>\n",
       "      <td>362064</td>\n",
       "      <td>356818</td>\n",
       "      <td>2625</td>\n",
       "      <td>357077</td>\n",
       "      <td>94475</td>\n",
       "      <td>23</td>\n",
       "      <td>160404</td>\n",
       "      <td>360449</td>\n",
       "      <td>15546</td>\n",
       "      <td>361362</td>\n",
       "      <td>464</td>\n",
       "      <td>214890</td>\n",
       "      <td>8268</td>\n",
       "    </tr>\n",
       "  </tbody>\n",
       "</table>\n",
       "</div>"
      ],
      "text/plain": [
       "        County First Name Last Name  Gender             Election  \\\n",
       "count   362064     362047    362056  361819               362064   \n",
       "unique       1      28892     83885       4                    1   \n",
       "top       King    MICHAEL     SMITH       F  Special Feb  8 2022   \n",
       "freq    362064       6055      2411  184819               362064   \n",
       "\n",
       "       Ballot Status Challenge Reason       Sent Date  Received Date  \\\n",
       "count         362064             5246          362064         362064   \n",
       "unique             2                8              35             38   \n",
       "top         Accepted         Too Late  1/19/2022 0:00  2/8/2022 0:00   \n",
       "freq          356818             2625          357077          94475   \n",
       "\n",
       "                   Address     City   State     Zip Country      Precinct  \\\n",
       "count               362064   361743  361359  361359  362064        362059   \n",
       "unique              226487      955      53    1012      66          2306   \n",
       "top     77 S WASHINGTON ST  SEATTLE      WA   98115     USA  WELCOME LAKE   \n",
       "freq                    23   160404  360449   15546  361362           464   \n",
       "\n",
       "       Return Method        Return Location  \n",
       "count         362064                 145872  \n",
       "unique             6                     74  \n",
       "top             Mail  King County Elections  \n",
       "freq          214890                   8268  "
      ]
     },
     "execution_count": 8,
     "metadata": {},
     "output_type": "execute_result"
    }
   ],
   "source": [
    "king_df.describe(include = 'object')\n"
   ]
  },
  {
   "cell_type": "markdown",
   "id": "b9480812-e2a9-4482-993d-0534a932e165",
   "metadata": {
    "jp-MarkdownHeadingCollapsed": true,
    "tags": []
   },
   "source": [
    "### How many ballots were returned?"
   ]
  },
  {
   "cell_type": "code",
   "execution_count": 7,
   "id": "b9f53760-4750-479b-9c82-821228a34b0a",
   "metadata": {},
   "outputs": [
    {
     "name": "stdout",
     "output_type": "stream",
     "text": [
      "Ballots Returned: 362064\n",
      "Percent Returned: 31.27%\n"
     ]
    }
   ],
   "source": [
    "# Total rows in our datasets\n",
    "total_elligible_voters = 1157819\n",
    "ballots_returned = king_df.shape[0]\n",
    "\n",
    "print(\"Ballots Returned:\", king_df.shape[0])\n",
    "print(\"Percent Returned:\", f\"{king_df.shape[0]/total_elligible_voters:.2%}\")"
   ]
  },
  {
   "cell_type": "code",
   "execution_count": 9,
   "id": "f917a1a2-68fe-4b86-8ca0-afe3e1324eb5",
   "metadata": {},
   "outputs": [],
   "source": [
    "#TODO: Add visual"
   ]
  },
  {
   "cell_type": "markdown",
   "id": "158a9915-adf6-4d7b-9e1e-2fcd23a22ada",
   "metadata": {
    "jp-MarkdownHeadingCollapsed": true,
    "tags": []
   },
   "source": [
    "### How many Ballots were accepted?"
   ]
  },
  {
   "cell_type": "code",
   "execution_count": 29,
   "id": "6c27ba97-601e-4051-828d-c6f846308f8f",
   "metadata": {},
   "outputs": [
    {
     "data": {
      "text/plain": [
       "Ballot Status\n",
       "Accepted    356818\n",
       "Rejected      5246\n",
       "Name: count, dtype: int64"
      ]
     },
     "execution_count": 29,
     "metadata": {},
     "output_type": "execute_result"
    }
   ],
   "source": [
    "king_df['Ballot Status'].value_counts()"
   ]
  },
  {
   "cell_type": "code",
   "execution_count": null,
   "id": "99fa6a19-8412-4bad-a675-3058555c9dfd",
   "metadata": {},
   "outputs": [
    {
     "name": "stdout",
     "output_type": "stream",
     "text": [
      "Total Accepted Ballots: 356818\n",
      "Percent Accepted of Returned Ballots: 98.55%\n",
      "\n",
      "Percent of Elligible Voters with Accepted Ballots: 30.82%\n"
     ]
    }
   ],
   "source": [
    "# Ballot status: accepted\n",
    "ballot_status = king_df['Ballot Status'].value_counts()\n",
    "accepted_ballots = ballot_status.loc[['Accepted']][0]\n",
    "\n",
    "print(\"Total Accepted Ballots:\",ballot_status.loc[['Accepted']][0] )\n",
    "print(\"Percent Accepted of Returned Ballots:\", f\"{accepted_ballots/ballots_returned:.2%}\")\n",
    "print(\"\\nPercent of Elligible Voters with Accepted Ballots:\", f\"{accepted_ballots/total_elligible_voters:.2%}\" )"
   ]
  },
  {
   "cell_type": "code",
   "execution_count": 10,
   "id": "ab7aa62a-0e19-4a82-868f-73832f8586f2",
   "metadata": {},
   "outputs": [],
   "source": [
    "# TODO: Add visual"
   ]
  },
  {
   "cell_type": "markdown",
   "id": "f5171bf1-0499-41aa-bc65-b8e032b3ab83",
   "metadata": {
    "jp-MarkdownHeadingCollapsed": true,
    "tags": []
   },
   "source": [
    "### How many Ballots were challenged?"
   ]
  },
  {
   "cell_type": "code",
   "execution_count": 32,
   "id": "a696d920-e15e-4ec1-9709-81fccd749031",
   "metadata": {},
   "outputs": [
    {
     "name": "stdout",
     "output_type": "stream",
     "text": [
      "Ballots Challenged: 5246\n",
      "Percent Challenged: 1.45%\n"
     ]
    }
   ],
   "source": [
    "challenged_ballots = ballot_status.loc[['Rejected']][0]\n",
    "\n",
    "print(\"Ballots Challenged:\",challenged_ballots)\n",
    "print(\"Percent Challenged:\", f\"{challenged_ballots/ballots_returned:.2%}\")"
   ]
  },
  {
   "cell_type": "markdown",
   "id": "59277e8c-8049-476d-8fed-518cb03dceaa",
   "metadata": {
    "tags": []
   },
   "source": [
    "### Returns by Method"
   ]
  },
  {
   "cell_type": "code",
   "execution_count": 33,
   "id": "dd96a27b-9199-4b1f-8105-0a0f3a89a9d8",
   "metadata": {},
   "outputs": [
    {
     "data": {
      "text/plain": [
       "Return Method\n",
       "Mail                    214890\n",
       "Drop Box                145872\n",
       "Email                      778\n",
       "Non-Standard Mail          256\n",
       "Non-Standard Dropbox       253\n",
       "Fax                         15\n",
       "Name: count, dtype: int64"
      ]
     },
     "execution_count": 33,
     "metadata": {},
     "output_type": "execute_result"
    }
   ],
   "source": [
    "king_df['Return Method'].value_counts()"
   ]
  },
  {
   "cell_type": "code",
   "execution_count": 52,
   "id": "938a452b-0a65-4c94-b893-5bdefbcc213f",
   "metadata": {},
   "outputs": [
    {
     "name": "stdout",
     "output_type": "stream",
     "text": [
      "Return Method\n",
      "Mail        214890\n",
      "Drop Box    145872\n",
      "Name: count, dtype: int64\n"
     ]
    },
    {
     "data": {
      "image/png": "[encoded data removed]",
      "text/plain": [
       "<Figure size 640x480 with 1 Axes>"
      ]
     },
     "metadata": {},
     "output_type": "display_data"
    }
   ],
   "source": [
    "# create a bar chart of total counts: mail vs drop box\n",
    "\n",
    "#total counts for each value\n",
    "return_method_counts = king_df['Return Method'].value_counts()\n",
    "selected_counts = return_method_counts.loc[['Mail','Drop Box']]\n",
    "other_counts = return_method_counts.loc[['Email','Non-Standard Mail','Non-Standard Dropbox','Fax']]\n",
    "\n",
    "print(selected_counts)\n",
    "\n",
    "#Bar chart\n",
    "plt.bar(selected_counts.index, selected_counts.values)\n",
    "plt.xlabel('Return Method')\n",
    "plt.ylabel('Counts')\n",
    "plt.title('Bar Chart of Return Methods')\n",
    "plt.show()"
   ]
  },
  {
   "cell_type": "code",
   "execution_count": 54,
   "id": "7a3f52ed-b0b5-4ba6-89e1-c7bb24b81df4",
   "metadata": {},
   "outputs": [
    {
     "name": "stdout",
     "output_type": "stream",
     "text": [
      "Return Method\n",
      "Email                   778\n",
      "Non-Standard Mail       256\n",
      "Non-Standard Dropbox    253\n",
      "Fax                      15\n",
      "Name: count, dtype: int64\n"
     ]
    },
    {
     "data": {
      "image/png": "[encoded data removed]",
      "text/plain": [
       "<Figure size 640x480 with 1 Axes>"
      ]
     },
     "metadata": {},
     "output_type": "display_data"
    }
   ],
   "source": [
    "other_counts = return_method_counts.loc[['Email','Non-Standard Mail','Non-Standard Dropbox','Fax']]\n",
    "\n",
    "print(other_counts)\n",
    "\n",
    "#Bar chart\n",
    "plt.bar(other_counts.index, other_counts.values)\n",
    "plt.xlabel('Return Method')\n",
    "plt.ylabel('Counts')\n",
    "plt.title('Other: Bar Chart of Return Methods')\n",
    "plt.show()"
   ]
  },
  {
   "cell_type": "markdown",
   "id": "4e39d7ff-00d7-4ef4-b253-37768e8721f8",
   "metadata": {
    "jp-MarkdownHeadingCollapsed": true,
    "tags": []
   },
   "source": [
    "### Returns in a spceific Precinct:  SEA 37-3796"
   ]
  },
  {
   "cell_type": "code",
   "execution_count": 69,
   "id": "b7ff8591-d733-4d60-a97a-61aa8430c2c6",
   "metadata": {},
   "outputs": [
    {
     "data": {
      "text/plain": [
       "Precinct\n",
       "WELCOME LAKE    464\n",
       "ENM 31-3248     435\n",
       "RED 45-3315     425\n",
       "SEA 32-2215     417\n",
       "SEA 43-1788     413\n",
       "               ... \n",
       "SILVER SPURS      2\n",
       "M-V 05-3781       2\n",
       "SPRING LAKE       2\n",
       "TUK 11-1167       1\n",
       "FRAGER            1\n",
       "Name: count, Length: 2306, dtype: int64"
      ]
     },
     "execution_count": 69,
     "metadata": {},
     "output_type": "execute_result"
    }
   ],
   "source": [
    "king_df['Precinct'].value_counts()"
   ]
  },
  {
   "cell_type": "code",
   "execution_count": 67,
   "id": "4bd5c248-d3a8-4eee-8755-39faad444eb2",
   "metadata": {},
   "outputs": [
    {
     "data": {
      "text/plain": [
       "131"
      ]
     },
     "execution_count": 67,
     "metadata": {},
     "output_type": "execute_result"
    }
   ],
   "source": [
    "king_df['Precinct'].loc[king_df['Precinct'] == 'SEA 37-3796'].count()"
   ]
  },
  {
   "cell_type": "code",
   "execution_count": null,
   "id": "08d318e9-6374-40a9-81a0-a65fb47d7e26",
   "metadata": {},
   "outputs": [],
   "source": []
  }
 ],
 "metadata": {
  "kernelspec": {
   "display_name": "Python 3 (ipykernel)",
   "language": "python",
   "name": "python3"
  },
  "language_info": {
   "codemirror_mode": {
    "name": "ipython",
    "version": 3
   },
   "file_extension": ".py",
   "mimetype": "text/x-python",
   "name": "python",
   "nbconvert_exporter": "python",
   "pygments_lexer": "ipython3",
   "version": "3.11.4"
  }
 },
 "nbformat": 4,
 "nbformat_minor": 5
}
